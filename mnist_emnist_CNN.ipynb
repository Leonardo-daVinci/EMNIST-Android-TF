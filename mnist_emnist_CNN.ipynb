{
  "nbformat": 4,
  "nbformat_minor": 0,
  "metadata": {
    "colab": {
      "name": "mnist_emnist_CNN.ipynb",
      "version": "0.3.2",
      "provenance": [],
      "collapsed_sections": []
    },
    "kernelspec": {
      "name": "python3",
      "display_name": "Python 3"
    },
    "accelerator": "GPU"
  },
  "cells": [
    {
      "cell_type": "code",
      "metadata": {
        "id": "FwTXLgIJfdQc",
        "colab_type": "code",
        "colab": {}
      },
      "source": [
        "import os\n",
        "import os.path as path "
      ],
      "execution_count": 0,
      "outputs": []
    },
    {
      "cell_type": "code",
      "metadata": {
        "id": "IVocavXLfq87",
        "colab_type": "code",
        "colab": {
          "base_uri": "https://localhost:8080/",
          "height": 36
        },
        "outputId": "cb01f580-98a7-40ab-90a4-f09382992a14"
      },
      "source": [
        "import keras\n",
        "from keras.datasets import mnist\n",
        "from keras.models import Sequential\n",
        "from keras.layers import Input, Dense, Dropout, Flatten\n",
        "from keras.layers import Conv2D, MaxPooling2D\n",
        "from keras import backend as K"
      ],
      "execution_count": 3,
      "outputs": [
        {
          "output_type": "stream",
          "text": [
            "Using TensorFlow backend.\n"
          ],
          "name": "stderr"
        }
      ]
    },
    {
      "cell_type": "code",
      "metadata": {
        "id": "6Z0paP0tgV4W",
        "colab_type": "code",
        "colab": {}
      },
      "source": [
        "import tensorflow as tf\n",
        "from tensorflow.python.tools import freeze_graph, optimize_for_inference_lib"
      ],
      "execution_count": 0,
      "outputs": []
    },
    {
      "cell_type": "code",
      "metadata": {
        "id": "2-SkP2fOgod7",
        "colab_type": "code",
        "colab": {}
      },
      "source": [
        "MODEL_NAME = 'mnist_convnet'\n",
        "EPOCHS =1\n",
        "BATCH_SIZE = 128"
      ],
      "execution_count": 0,
      "outputs": []
    },
    {
      "cell_type": "code",
      "metadata": {
        "id": "9TkN8E2qgxRN",
        "colab_type": "code",
        "colab": {}
      },
      "source": [
        "def load_data():\n",
        "    (x_train, y_train),(x_test, y_test) = mnist.load_data()\n",
        "    x_train = x_train.reshape(x_train.shape[0],28,28,1)\n",
        "    x_train = x_train.astype('float32')\n",
        "    x_train = x_train/255.0\n",
        "    \n",
        "    x_test = x_test.reshape(x_test.shape[0],28,28,1)\n",
        "    x_test = x_test.astype('float32')\n",
        "    x_test = x_test/255.0\n",
        "    \n",
        "    y_train = keras.utils.to_categorical(y_train,10)\n",
        "    y_test = keras.utils.to_categorical(y_test,10)\n",
        "    \n",
        "    return x_train, y_train, x_test, y_test"
      ],
      "execution_count": 0,
      "outputs": []
    },
    {
      "cell_type": "code",
      "metadata": {
        "id": "BPIH9Lz3h2Zt",
        "colab_type": "code",
        "colab": {}
      },
      "source": [
        "def build_model():\n",
        "    model = Sequential()\n",
        "    model.add(Conv2D(64, (3,3), padding='same', activation='relu', input_shape=[28,28,1]))\n",
        "    model.add(MaxPooling2D(2,2, padding='same'))\n",
        "    model.add(Conv2D(128, (3,3), padding='same', activation='relu'))\n",
        "    model.add(MaxPooling2D(2,2, padding='same'))\n",
        "    model.add(Conv2D(256, (3,3), padding='same', activation='relu'))\n",
        "    model.add(MaxPooling2D(2,2, padding='same'))\n",
        "    model.add(Flatten())\n",
        "    model.add(Dense(1024, activation='relu'))\n",
        "    model.add(Dense(10, activation='softmax'))\n",
        "    model.summary()\n",
        "    return model"
      ],
      "execution_count": 0,
      "outputs": []
    },
    {
      "cell_type": "code",
      "metadata": {
        "id": "6JmW-eK-jq3y",
        "colab_type": "code",
        "colab": {}
      },
      "source": [
        "def train(model, x_train, y_train, x_test, y_test):\n",
        "    model.compile(loss=keras.losses.categorical_crossentropy, optimizer=keras.optimizers.Adadelta(), metrics=['accuracy'])\n",
        "    \n",
        "    model.fit(x_train, y_train, batch_size = BATCH_SIZE, epochs=EPOCHS, verbose=1, validation_data=(x_test, y_test))"
      ],
      "execution_count": 0,
      "outputs": []
    },
    {
      "cell_type": "code",
      "metadata": {
        "id": "bf3qFxSKoBQf",
        "colab_type": "code",
        "colab": {}
      },
      "source": [
        "def export_model(saver, model, input_node_names, output_node_name):\n",
        "    tf.train.write_graph(K.get_session().graph_def, 'out', MODEL_NAME+'_graph.pbtxt')\n",
        "    \n",
        "    saver.save(K.get_session(), 'out/'+MODEL_NAME+'.chkp')\n",
        "    \n",
        "    freeze_graph.freeze_graph('out/'+MODEL_NAME+'_graph.pbtxt',None,False,'out/'+MODEL_NAME+'.chkp',output_node_name,\n",
        "                              \"save/restore_all\", \"save/Const:0\",\n",
        "                              'out/frozen_'+MODEL_NAME+'.pb',True,\"\")\n",
        "    \n",
        "    input_graph_def = tf.GraphDef()\n",
        "    with tf.gfile.Open('out/frozen_'+MODEL_NAME+'.pb',\"rb\") as f:\n",
        "        input_graph_def.ParseFromString(f.read())\n",
        "        \n",
        "    output_graph_def = optimize_for_inference_lib.optimize_for_inference(input_graph_def,\n",
        "                                                                        input_node_names,[output_node_name],\n",
        "                                                                        tf.float32.as_datatype_enum)\n",
        "    \n",
        "    with tf.gfile.FastGFile('out/opt_'+MODEL_NAME+'.pb',\"wb\")as f:\n",
        "        f.write(output_graph_def.SerializeToString())\n",
        "    \n",
        "    print(\"Graph saved!\")"
      ],
      "execution_count": 0,
      "outputs": []
    },
    {
      "cell_type": "markdown",
      "metadata": {
        "id": "Yo64gnaZsj2T",
        "colab_type": "text"
      },
      "source": [
        "This export_model() fxn is used at variety of usecase"
      ]
    },
    {
      "cell_type": "code",
      "metadata": {
        "id": "QYmuImu0r8rg",
        "colab_type": "code",
        "colab": {}
      },
      "source": [
        "def main():\n",
        "    if not path.exists('out'):\n",
        "        os.mkdir('out')\n",
        "    \n",
        "    x_train, y_train, x_test, y_test = load_data()\n",
        "    model = build_model()\n",
        "    train(model, x_train, y_train, x_test, y_test)\n",
        "    export_model(tf.train.Saver(), model, [\"conv2d_1_input\"], \"dense_2/Softmax\")"
      ],
      "execution_count": 0,
      "outputs": []
    },
    {
      "cell_type": "code",
      "metadata": {
        "id": "gKtJCu7ytZVE",
        "colab_type": "code",
        "outputId": "753559f3-f0de-4449-cea4-0f1d503e6077",
        "colab": {
          "base_uri": "https://localhost:8080/",
          "height": 913
        }
      },
      "source": [
        "if __name__ == '__main__':\n",
        "    main()"
      ],
      "execution_count": 0,
      "outputs": [
        {
          "output_type": "stream",
          "text": [
            "Downloading data from https://s3.amazonaws.com/img-datasets/mnist.npz\n",
            "11493376/11490434 [==============================] - 1s 0us/step\n",
            "_________________________________________________________________\n",
            "Layer (type)                 Output Shape              Param #   \n",
            "=================================================================\n",
            "conv2d_19 (Conv2D)           (None, 28, 28, 64)        640       \n",
            "_________________________________________________________________\n",
            "max_pooling2d_19 (MaxPooling (None, 14, 14, 64)        0         \n",
            "_________________________________________________________________\n",
            "conv2d_20 (Conv2D)           (None, 14, 14, 128)       73856     \n",
            "_________________________________________________________________\n",
            "max_pooling2d_20 (MaxPooling (None, 7, 7, 128)         0         \n",
            "_________________________________________________________________\n",
            "conv2d_21 (Conv2D)           (None, 7, 7, 256)         295168    \n",
            "_________________________________________________________________\n",
            "max_pooling2d_21 (MaxPooling (None, 4, 4, 256)         0         \n",
            "_________________________________________________________________\n",
            "flatten_7 (Flatten)          (None, 4096)              0         \n",
            "_________________________________________________________________\n",
            "dense_13 (Dense)             (None, 1024)              4195328   \n",
            "_________________________________________________________________\n",
            "dense_14 (Dense)             (None, 10)                10250     \n",
            "=================================================================\n",
            "Total params: 4,575,242\n",
            "Trainable params: 4,575,242\n",
            "Non-trainable params: 0\n",
            "_________________________________________________________________\n",
            "Train on 60000 samples, validate on 10000 samples\n",
            "Epoch 1/1\n",
            "60000/60000 [==============================] - 9s 142us/step - loss: 0.2147 - acc: 0.9311 - val_loss: 0.0475 - val_acc: 0.9839\n"
          ],
          "name": "stdout"
        },
        {
          "output_type": "stream",
          "text": [
            "W0725 20:17:47.292760 140565622511488 deprecation.py:323] From /usr/local/lib/python3.6/dist-packages/tensorflow/python/tools/freeze_graph.py:127: checkpoint_exists (from tensorflow.python.training.checkpoint_management) is deprecated and will be removed in a future version.\n",
            "Instructions for updating:\n",
            "Use standard file APIs to check for files with this prefix.\n",
            "W0725 20:17:49.538662 140565622511488 deprecation.py:323] From /usr/local/lib/python3.6/dist-packages/tensorflow/python/tools/freeze_graph.py:233: convert_variables_to_constants (from tensorflow.python.framework.graph_util_impl) is deprecated and will be removed in a future version.\n",
            "Instructions for updating:\n",
            "Use `tf.compat.v1.graph_util.convert_variables_to_constants`\n",
            "W0725 20:17:49.539762 140565622511488 deprecation.py:323] From /usr/local/lib/python3.6/dist-packages/tensorflow/python/framework/graph_util_impl.py:270: extract_sub_graph (from tensorflow.python.framework.graph_util_impl) is deprecated and will be removed in a future version.\n",
            "Instructions for updating:\n",
            "Use `tf.compat.v1.graph_util.extract_sub_graph`\n",
            "W0725 20:17:49.906553 140565622511488 deprecation.py:323] From /usr/local/lib/python3.6/dist-packages/tensorflow/python/tools/optimize_for_inference_lib.py:113: remove_training_nodes (from tensorflow.python.framework.graph_util_impl) is deprecated and will be removed in a future version.\n",
            "Instructions for updating:\n",
            "Use `tf.compat.v1.graph_util.remove_training_nodes`\n",
            "W0725 20:17:49.913939 140565622511488 deprecation.py:323] From <ipython-input-55-384f87decfbe>:18: FastGFile.__init__ (from tensorflow.python.platform.gfile) is deprecated and will be removed in a future version.\n",
            "Instructions for updating:\n",
            "Use tf.gfile.GFile.\n"
          ],
          "name": "stderr"
        },
        {
          "output_type": "stream",
          "text": [
            "Graph saved!\n"
          ],
          "name": "stdout"
        }
      ]
    },
    {
      "cell_type": "markdown",
      "metadata": {
        "id": "PdmQDbbjcPQ3",
        "colab_type": "text"
      },
      "source": [
        "The above code is used for Handwritten Digits.   \n",
        "  \n",
        "   \n",
        "Now we'll try to implement Handwritten characters using EMNIST dataset"
      ]
    },
    {
      "cell_type": "code",
      "metadata": {
        "id": "dOK-AjiZeS0a",
        "colab_type": "code",
        "colab": {
          "base_uri": "https://localhost:8080/",
          "height": 303
        },
        "outputId": "dfb218e3-b0cd-4d87-fdfb-878f86366b1c"
      },
      "source": [
        "!wget http://www.itl.nist.gov/iaui/vip/cs_links/EMNIST/gzip.zip"
      ],
      "execution_count": 4,
      "outputs": [
        {
          "output_type": "stream",
          "text": [
            "--2019-07-26 13:08:22--  http://www.itl.nist.gov/iaui/vip/cs_links/EMNIST/gzip.zip\n",
            "Resolving www.itl.nist.gov (www.itl.nist.gov)... 132.163.4.36, 2610:20:6005:13::51, 2610:20:6b01:4::36\n",
            "Connecting to www.itl.nist.gov (www.itl.nist.gov)|132.163.4.36|:80... connected.\n",
            "HTTP request sent, awaiting response... 301 Moved Permanently\n",
            "Location: https://www.itl.nist.gov/iaui/vip/cs_links/EMNIST/gzip.zip [following]\n",
            "--2019-07-26 13:08:22--  https://www.itl.nist.gov/iaui/vip/cs_links/EMNIST/gzip.zip\n",
            "Connecting to www.itl.nist.gov (www.itl.nist.gov)|132.163.4.36|:443... connected.\n",
            "HTTP request sent, awaiting response... 200 OK\n",
            "Length: 561753746 (536M) [application/zip]\n",
            "Saving to: ‘gzip.zip’\n",
            "\n",
            "gzip.zip            100%[===================>] 535.73M  58.4MB/s    in 9.6s    \n",
            "\n",
            "2019-07-26 13:08:32 (55.6 MB/s) - ‘gzip.zip’ saved [561753746/561753746]\n",
            "\n"
          ],
          "name": "stdout"
        }
      ]
    },
    {
      "cell_type": "code",
      "metadata": {
        "id": "xqzMyKzYfdIN",
        "colab_type": "code",
        "colab": {}
      },
      "source": [
        "import os\n",
        "import zipfile\n",
        "\n",
        "local_zip = '/content/emnist-balanced-test.csv.zip'\n",
        "zip_ref = zipfile.ZipFile(local_zip, 'r')\n",
        "zip_ref.extractall('/content/emnist-balanced-test')\n",
        "zip_ref.close()"
      ],
      "execution_count": 0,
      "outputs": []
    },
    {
      "cell_type": "code",
      "metadata": {
        "id": "GWDU04Iwm40a",
        "colab_type": "code",
        "colab": {}
      },
      "source": [
        "local_zip = '/content/emnist-balanced-train.csv.zip'\n",
        "zip_ref = zipfile.ZipFile(local_zip, 'r')\n",
        "zip_ref.extractall('/content/emnist-balanced-train')\n",
        "zip_ref.close()"
      ],
      "execution_count": 0,
      "outputs": []
    },
    {
      "cell_type": "code",
      "metadata": {
        "id": "6ITvxu9gnWKI",
        "colab_type": "code",
        "colab": {}
      },
      "source": [
        "import numpy as np\n",
        "import pandas as pd"
      ],
      "execution_count": 0,
      "outputs": []
    },
    {
      "cell_type": "code",
      "metadata": {
        "id": "ze_ZD-OMnjvL",
        "colab_type": "code",
        "colab": {}
      },
      "source": [
        "train_data_path = '/content/emnist-balanced-train/emnist-balanced-train.csv'\n",
        "test_data_path = '/content/emnist-balanced-test/emnist-balanced-test.csv'"
      ],
      "execution_count": 0,
      "outputs": []
    },
    {
      "cell_type": "code",
      "metadata": {
        "id": "jYR1Meiln1Xh",
        "colab_type": "code",
        "colab": {}
      },
      "source": [
        "train_data = pd.read_csv(train_data_path, header=None)"
      ],
      "execution_count": 0,
      "outputs": []
    },
    {
      "cell_type": "code",
      "metadata": {
        "id": "JIJULQ85oFCk",
        "colab_type": "code",
        "colab": {}
      },
      "source": [
        "class_mapping = '0123456789ABCDEFGHIJKLMNOPQRSTUVWXYZabdefghnqrt'"
      ],
      "execution_count": 0,
      "outputs": []
    },
    {
      "cell_type": "code",
      "metadata": {
        "id": "Hvv4s7fRoWGR",
        "colab_type": "code",
        "colab": {}
      },
      "source": [
        "num_classes = 47\n",
        "img_size = 28\n",
        "\n",
        "def img_label_load(data_path, num_classes=None):\n",
        "    data = pd.read_csv(data_path, header=None)\n",
        "    data_rows = len(data)\n",
        "    if not num_classes:\n",
        "        num_classes = len(data[0].unique())\n",
        "    \n",
        "    #images Should be 28x28\n",
        "    img_size = int(np.sqrt(len(data.iloc[0][1:])))\n",
        "    \n",
        "    # Images need to be transposed. This line also does the reshaping needed.\n",
        "    imgs = np.transpose(data.values[:,1:].reshape(data_rows, img_size, img_size, 1), axes=[0,2,1,3]) # img_size * img_size arrays\n",
        "    \n",
        "    labels = keras.utils.to_categorical(data.values[:,0], num_classes) # one-hot encoding vectors\n",
        "    \n",
        "    return imgs/255.0, labels"
      ],
      "execution_count": 0,
      "outputs": []
    },
    {
      "cell_type": "code",
      "metadata": {
        "id": "DpyIQxE_ozLt",
        "colab_type": "code",
        "colab": {}
      },
      "source": [
        "def build_model2():\n",
        "    model = Sequential()\n",
        "    model.add(Conv2D(12, (3,3), padding='same', activation='relu', input_shape=[28,28,1]))\n",
        "    model.add(MaxPooling2D(2,2, padding='same'))\n",
        "    #model.add(Dropout(.5))\n",
        "    model.add(Conv2D(128, (3,3), padding='same', activation='relu'))\n",
        "    model.add(MaxPooling2D(2,2, padding='same'))\n",
        "    #model.add(Dropout(.5))\n",
        "    model.add(Conv2D(256, (3,3), padding='same', activation='relu'))\n",
        "    model.add(MaxPooling2D(2,2, padding='same'))\n",
        "    \n",
        "    model.add(Flatten())\n",
        "    model.add(Dense(1024, activation='relu'))\n",
        "    model.add(Dense(47, activation='softmax'))\n",
        "    return model"
      ],
      "execution_count": 0,
      "outputs": []
    },
    {
      "cell_type": "code",
      "metadata": {
        "id": "8RAO5CoSuu1j",
        "colab_type": "code",
        "colab": {}
      },
      "source": [
        "model_new = build_model2()"
      ],
      "execution_count": 0,
      "outputs": []
    },
    {
      "cell_type": "code",
      "metadata": {
        "id": "U3aimegaqI2m",
        "colab_type": "code",
        "outputId": "8e8640f6-0c8f-46f7-8844-f4193b3d1d01",
        "colab": {
          "base_uri": "https://localhost:8080/",
          "height": 702
        }
      },
      "source": [
        "model_new.compile(loss=keras.losses.categorical_crossentropy, \n",
        "                  optimizer=keras.optimizers.Adadelta(), metrics=['accuracy'])\n",
        "model_new.summary()\n",
        "    \n",
        "    \n",
        "data_generator = keras.preprocessing.image.ImageDataGenerator(validation_split=.2)\n",
        "data_generator_with_aug = keras.preprocessing.image.ImageDataGenerator(validation_split=.2,\n",
        "                                            width_shift_range=.2, height_shift_range=.2,\n",
        "                                            rotation_range=60, zoom_range=.2, shear_range=.3)\n",
        "X, y = img_label_load(train_data_path)\n",
        "print(\"X.shape: \", X.shape)\n",
        "    \n",
        "    \n",
        "training_data_generator = data_generator.flow(X, y, subset='training')\n",
        "validation_data_generator = data_generator.flow(X, y, subset='validation')\n",
        "    \n",
        "history = model_new.fit_generator(training_data_generator, \n",
        "                              steps_per_epoch=500, epochs=5, # can change epochs to 10\n",
        "                              )"
      ],
      "execution_count": 35,
      "outputs": [
        {
          "output_type": "stream",
          "text": [
            "_________________________________________________________________\n",
            "Layer (type)                 Output Shape              Param #   \n",
            "=================================================================\n",
            "conv2d_10 (Conv2D)           (None, 28, 28, 12)        120       \n",
            "_________________________________________________________________\n",
            "max_pooling2d_10 (MaxPooling (None, 14, 14, 12)        0         \n",
            "_________________________________________________________________\n",
            "conv2d_11 (Conv2D)           (None, 14, 14, 128)       13952     \n",
            "_________________________________________________________________\n",
            "max_pooling2d_11 (MaxPooling (None, 7, 7, 128)         0         \n",
            "_________________________________________________________________\n",
            "conv2d_12 (Conv2D)           (None, 7, 7, 256)         295168    \n",
            "_________________________________________________________________\n",
            "max_pooling2d_12 (MaxPooling (None, 4, 4, 256)         0         \n",
            "_________________________________________________________________\n",
            "flatten_4 (Flatten)          (None, 4096)              0         \n",
            "_________________________________________________________________\n",
            "dense_7 (Dense)              (None, 1024)              4195328   \n",
            "_________________________________________________________________\n",
            "dense_8 (Dense)              (None, 47)                48175     \n",
            "=================================================================\n",
            "Total params: 4,552,743\n",
            "Trainable params: 4,552,743\n",
            "Non-trainable params: 0\n",
            "_________________________________________________________________\n",
            "X.shape:  (112800, 28, 28, 1)\n",
            "Epoch 1/5\n",
            "500/500 [==============================] - 170s 340ms/step - loss: 2.1951 - acc: 0.4085\n",
            "Epoch 2/5\n",
            "500/500 [==============================] - 166s 331ms/step - loss: 1.2769 - acc: 0.6330\n",
            "Epoch 3/5\n",
            "500/500 [==============================] - 164s 328ms/step - loss: 1.1657 - acc: 0.6667\n",
            "Epoch 4/5\n",
            "500/500 [==============================] - 161s 322ms/step - loss: 1.2123 - acc: 0.6627\n",
            "Epoch 5/5\n",
            "500/500 [==============================] - 160s 319ms/step - loss: 1.2514 - acc: 0.6581\n"
          ],
          "name": "stdout"
        }
      ]
    },
    {
      "cell_type": "code",
      "metadata": {
        "id": "Wvtzp144wZhJ",
        "colab_type": "code",
        "colab": {}
      },
      "source": [
        "import matplotlib.pyplot as plt"
      ],
      "execution_count": 0,
      "outputs": []
    },
    {
      "cell_type": "code",
      "metadata": {
        "id": "o0I4BAY0wVba",
        "colab_type": "code",
        "colab": {}
      },
      "source": [
        "def show_img(data, row_num):\n",
        "    img_flip = np.transpose(data.values[row_num,1:].reshape(28, 28), axes=[1,0]) # img_size * img_size arrays\n",
        "    plt.title('Class: ' + str(data.values[row_num,0]) + ', Label: ' + str(class_mapping[data.values[row_num,0]]))\n",
        "    plt.imshow(img_flip, cmap='Greys_r')"
      ],
      "execution_count": 0,
      "outputs": []
    },
    {
      "cell_type": "code",
      "metadata": {
        "id": "2dPiAHHuvyB5",
        "colab_type": "code",
        "outputId": "37527bed-7b57-4c96-ef0b-a59fd64b84b9",
        "colab": {
          "base_uri": "https://localhost:8080/",
          "height": 281
        }
      },
      "source": [
        "test_data = pd.read_csv(test_data_path, header=None)\n",
        "show_img(test_data, 123)"
      ],
      "execution_count": 38,
      "outputs": [
        {
          "output_type": "display_data",
          "data": {
            "image/png": "[encoded data removed]",
            "text/plain": [
              "<Figure size 432x288 with 1 Axes>"
            ]
          },
          "metadata": {
            "tags": []
          }
        }
      ]
    },
    {
      "cell_type": "code",
      "metadata": {
        "id": "e8KetV5lwuOm",
        "colab_type": "code",
        "colab": {}
      },
      "source": [
        "X_test, y_test = img_label_load(test_data_path)"
      ],
      "execution_count": 0,
      "outputs": []
    },
    {
      "cell_type": "code",
      "metadata": {
        "id": "mzOHcgVHwxI0",
        "colab_type": "code",
        "colab": {}
      },
      "source": [
        "def run_prediction(idx):\n",
        "    result = np.argmax(model.predict(X_test[idx:idx+1]))\n",
        "    print('Prediction: ', result, ', Char: ', class_mapping[result])\n",
        "    print('Label: ', test_data.values[idx,0])\n",
        "    show_img(test_data, idx)"
      ],
      "execution_count": 0,
      "outputs": []
    },
    {
      "cell_type": "code",
      "metadata": {
        "id": "YcRZSlg3wuyb",
        "colab_type": "code",
        "outputId": "7f87a10d-0643-4bd8-9092-c32e3b8a279f",
        "colab": {
          "base_uri": "https://localhost:8080/",
          "height": 624
        }
      },
      "source": [
        "import random\n",
        "\n",
        "for _ in range(1,10):\n",
        "    idx = random.randint(0, 47-1)\n",
        "    run_prediction(idx)"
      ],
      "execution_count": 43,
      "outputs": [
        {
          "output_type": "stream",
          "text": [
            "Prediction:  30 , Char:  U\n",
            "Label:  21\n",
            "Prediction:  41 , Char:  g\n",
            "Label:  16\n",
            "Prediction:  41 , Char:  g\n",
            "Label:  16\n",
            "Prediction:  35 , Char:  Z\n",
            "Label:  40\n",
            "Prediction:  23 , Char:  N\n",
            "Label:  8\n",
            "Prediction:  41 , Char:  g\n",
            "Label:  37\n",
            "Prediction:  41 , Char:  g\n",
            "Label:  16\n",
            "Prediction:  41 , Char:  g\n",
            "Label:  16\n",
            "Prediction:  41 , Char:  g\n",
            "Label:  26\n"
          ],
          "name": "stdout"
        },
        {
          "output_type": "display_data",
          "data": {
            "image/png": "[encoded data removed]",
            "text/plain": [
              "<Figure size 432x288 with 1 Axes>"
            ]
          },
          "metadata": {
            "tags": []
          }
        }
      ]
    },
    {
      "cell_type": "code",
      "metadata": {
        "id": "KqwTS_Zjwz49",
        "colab_type": "code",
        "outputId": "0be0876b-da13-4979-aaaa-86eb32382ff7",
        "colab": {
          "base_uri": "https://localhost:8080/",
          "height": 300
        }
      },
      "source": [
        "show_img(test_data, 123)\n",
        "np.argmax(y_test[123])"
      ],
      "execution_count": 44,
      "outputs": [
        {
          "output_type": "execute_result",
          "data": {
            "text/plain": [
              "38"
            ]
          },
          "metadata": {
            "tags": []
          },
          "execution_count": 44
        },
        {
          "output_type": "display_data",
          "data": {
            "image/png": "[encoded data removed]",
            "text/plain": [
              "<Figure size 432x288 with 1 Axes>"
            ]
          },
          "metadata": {
            "tags": []
          }
        }
      ]
    },
    {
      "cell_type": "markdown",
      "metadata": {
        "id": "tKak6WYiOXDJ",
        "colab_type": "text"
      },
      "source": [
        "As the new model is working fine, we export it in form of  .pb file to be used in our Android Project"
      ]
    },
    {
      "cell_type": "code",
      "metadata": {
        "id": "l9TijTLdzAN9",
        "colab_type": "code",
        "colab": {}
      },
      "source": [
        "MODEL_NAME = \"emnist_convnet-keras\""
      ],
      "execution_count": 0,
      "outputs": []
    },
    {
      "cell_type": "code",
      "metadata": {
        "id": "XILd71aYzWFH",
        "colab_type": "code",
        "outputId": "936c0ff4-767f-46ca-9ba2-afd97a4976b2",
        "colab": {
          "base_uri": "https://localhost:8080/",
          "height": 93
        }
      },
      "source": [
        "export_model(tf.train.Saver(), model_new, [\"conv2d_10_input\"], \"dense_8/Softmax\")"
      ],
      "execution_count": 50,
      "outputs": [
        {
          "output_type": "stream",
          "text": [
            "INFO:tensorflow:Restoring parameters from out/emnist_convnet-keras.chkp\n",
            "INFO:tensorflow:Froze 10 variables.\n",
            "Converted 10 variables to const ops.\n",
            "Graph saved!\n"
          ],
          "name": "stdout"
        }
      ]
    }
  ]
}